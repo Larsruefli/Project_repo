{
 "cells": [
  {
   "cell_type": "markdown",
   "id": "a10f0c93",
   "metadata": {
    "slideshow": {
     "slide_type": "slide"
    }
   },
   "source": [
    "# Lecture 4\n",
    "# Section 6: A simple music player (with streamlit)¶"
   ]
  },
  {
   "cell_type": "markdown",
   "id": "43c4a3c2",
   "metadata": {},
   "source": [
    "Here we first build a very simple **Music Player** in the **Jupyter Notebook**, later we reuse the functionality within a very simple **Streamlit Music Player** app."
   ]
  },
  {
   "cell_type": "markdown",
   "id": "3f3f787b",
   "metadata": {
    "slideshow": {
     "slide_type": "slide"
    }
   },
   "source": [
    "## How to play a music file in Python? \n",
    "\n",
    "To find out, **how to play a music file in python**, I used Google. There very likely is a library to deal with music files in python already. It turned out, there are several.\n",
    "\n",
    "I started with the following thread on StackOverflow: https://stackoverflow.com/questions/20021457/playing-mp3-song-on-python\n",
    "\n",
    "After a bit of reading and testing, I pragmatically decided for `pygame`, see: https://www.pygame.org/docs/ref/music.html "
   ]
  },
  {
   "cell_type": "markdown",
   "id": "efada65f",
   "metadata": {
    "slideshow": {
     "slide_type": "slide"
    }
   },
   "source": [
    "### Let's install `pygame` first "
   ]
  },
  {
   "cell_type": "code",
   "execution_count": 7,
   "id": "41553bb6",
   "metadata": {
    "slideshow": {
     "slide_type": "-"
    }
   },
   "outputs": [
    {
     "name": "stdout",
     "output_type": "stream",
     "text": [
      "Collecting pygame\n",
      "  Downloading pygame-2.6.1-cp312-cp312-win_amd64.whl.metadata (13 kB)\n",
      "Downloading pygame-2.6.1-cp312-cp312-win_amd64.whl (10.6 MB)\n",
      "   ---------------------------------------- 0.0/10.6 MB ? eta -:--:--\n",
      "   ---------------------------------------- 0.0/10.6 MB ? eta -:--:--\n",
      "    --------------------------------------- 0.1/10.6 MB 1.7 MB/s eta 0:00:07\n",
      "   --- ------------------------------------ 1.0/10.6 MB 7.1 MB/s eta 0:00:02\n",
      "   --------- ------------------------------ 2.6/10.6 MB 13.7 MB/s eta 0:00:01\n",
      "   -------------- ------------------------- 4.0/10.6 MB 18.2 MB/s eta 0:00:01\n",
      "   -------------------- ------------------- 5.3/10.6 MB 20.1 MB/s eta 0:00:01\n",
      "   -------------------------- ------------- 7.1/10.6 MB 22.9 MB/s eta 0:00:01\n",
      "   --------------------------------- ------ 8.9/10.6 MB 23.6 MB/s eta 0:00:01\n",
      "   ---------------------------------------  10.6/10.6 MB 32.7 MB/s eta 0:00:01\n",
      "   ---------------------------------------  10.6/10.6 MB 32.7 MB/s eta 0:00:01\n",
      "   ---------------------------------------- 10.6/10.6 MB 27.3 MB/s eta 0:00:00\n",
      "Installing collected packages: pygame\n",
      "Successfully installed pygame-2.6.1\n",
      "Note: you may need to restart the kernel to use updated packages.\n"
     ]
    }
   ],
   "source": [
    "%pip install pygame"
   ]
  },
  {
   "cell_type": "markdown",
   "id": "e488c7c4",
   "metadata": {},
   "source": [
    "### and then import it together with a library for dealing with files and directories"
   ]
  },
  {
   "cell_type": "code",
   "execution_count": 9,
   "id": "76a923ff",
   "metadata": {},
   "outputs": [
    {
     "name": "stdout",
     "output_type": "stream",
     "text": [
      "pygame 2.6.1 (SDL 2.28.4, Python 3.12.4)\n",
      "Hello from the pygame community. https://www.pygame.org/contribute.html\n"
     ]
    }
   ],
   "source": [
    "from pygame import mixer # handling music files\n",
    "import glob # working with OS files and directories"
   ]
  },
  {
   "cell_type": "markdown",
   "id": "ef823171",
   "metadata": {
    "slideshow": {
     "slide_type": "slide"
    }
   },
   "source": [
    "### Ok, some quick and dirty test"
   ]
  },
  {
   "cell_type": "code",
   "execution_count": 11,
   "id": "1cb2eb9e",
   "metadata": {},
   "outputs": [
    {
     "ename": "error",
     "evalue": "No file 'music/indian-trap-132594.mp3' found in working directory 'C:\\Users\\larsr\\Documents\\OneDrive - Universität St.Gallen\\5. Semester\\CS Anaconda\\W4'.",
     "output_type": "error",
     "traceback": [
      "\u001b[1;31m---------------------------------------------------------------------------\u001b[0m",
      "\u001b[1;31merror\u001b[0m                                     Traceback (most recent call last)",
      "Cell \u001b[1;32mIn[11], line 2\u001b[0m\n\u001b[0;32m      1\u001b[0m mixer\u001b[38;5;241m.\u001b[39minit()\n\u001b[1;32m----> 2\u001b[0m mixer\u001b[38;5;241m.\u001b[39mmusic\u001b[38;5;241m.\u001b[39mload(\u001b[38;5;124m'\u001b[39m\u001b[38;5;124mmusic/indian-trap-132594.mp3\u001b[39m\u001b[38;5;124m'\u001b[39m)\n\u001b[0;32m      3\u001b[0m mixer\u001b[38;5;241m.\u001b[39mmusic\u001b[38;5;241m.\u001b[39mplay()\n",
      "\u001b[1;31merror\u001b[0m: No file 'music/indian-trap-132594.mp3' found in working directory 'C:\\Users\\larsr\\Documents\\OneDrive - Universität St.Gallen\\5. Semester\\CS Anaconda\\W4'."
     ]
    }
   ],
   "source": [
    "mixer.init()\n",
    "mixer.music.load('music/indian-trap-132594.mp3')\n",
    "mixer.music.play()"
   ]
  },
  {
   "cell_type": "code",
   "execution_count": null,
   "id": "b7e8c7fd",
   "metadata": {},
   "outputs": [],
   "source": [
    "mixer.music.stop()"
   ]
  },
  {
   "cell_type": "markdown",
   "id": "fc06fa9f",
   "metadata": {
    "slideshow": {
     "slide_type": "slide"
    }
   },
   "source": [
    "### Let's make it a bit nicer: function definitions"
   ]
  },
  {
   "cell_type": "code",
   "execution_count": 14,
   "id": "4b328cd9",
   "metadata": {},
   "outputs": [],
   "source": [
    "def get_tracks(folder='', file_type='mp3'):\n",
    "    \"\"\"Get all the media files, e.g. mp3 filed form a folder\"\"\"\n",
    "    \n",
    "    if not folder == '' and not folder.endswith('/'):\n",
    "        folder += '/'\n",
    "    \n",
    "    return glob.glob(f\"{folder}*.{file_type}\")"
   ]
  },
  {
   "cell_type": "code",
   "execution_count": 16,
   "id": "e7d50a4d",
   "metadata": {},
   "outputs": [],
   "source": [
    "def list_tracks(folder='', file_type='mp3'):\n",
    "    \"\"\"List the found tracks nicely togerher with a track number\"\"\"\n",
    "    \n",
    "    tracks = get_tracks(folder, file_type)\n",
    "    \n",
    "    for track_number, track_title in enumerate(tracks): \n",
    "        # find out where to remove the folder name\n",
    "        # +1 to also get the last \"/\"\n",
    "        folder_len = len(folder) + 1 \n",
    "        \n",
    "        # find out where to remove the file suffix\n",
    "        # +1 to also get the leading \".\"\n",
    "        suffix_len = len(file_type) +1 \n",
    "        \n",
    "        # print the 2-digit track number plus title\n",
    "        print(f'{track_number + 1:02}. {track_title[folder_len:len(track_title)-suffix_len]}')"
   ]
  },
  {
   "cell_type": "code",
   "execution_count": 18,
   "id": "b6f99b5b",
   "metadata": {},
   "outputs": [],
   "source": [
    "def play_track(folder='', track_number=1):\n",
    "    \"\"\"Play a certain track (with a number) from a folder\"\"\"\n",
    "    \n",
    "    track = get_tracks(folder='music/')[track_number - 1]\n",
    "    mixer.init()\n",
    "    mixer.music.load(track)\n",
    "    mixer.music.play()"
   ]
  },
  {
   "cell_type": "code",
   "execution_count": 20,
   "id": "976d61fe",
   "metadata": {},
   "outputs": [],
   "source": [
    "def stop_playback():\n",
    "    \"\"\"If we don't want to listen to the entire track, we can also stop the playback\"\"\"\n",
    "    mixer.music.stop()"
   ]
  },
  {
   "cell_type": "markdown",
   "id": "f4ead10a",
   "metadata": {
    "slideshow": {
     "slide_type": "slide"
    }
   },
   "source": [
    "### Now, let's finally use our functions"
   ]
  },
  {
   "cell_type": "code",
   "execution_count": 23,
   "id": "f23db81f",
   "metadata": {},
   "outputs": [],
   "source": [
    "list_tracks('music')"
   ]
  },
  {
   "cell_type": "code",
   "execution_count": 25,
   "id": "16cee3e4",
   "metadata": {},
   "outputs": [
    {
     "ename": "IndexError",
     "evalue": "list index out of range",
     "output_type": "error",
     "traceback": [
      "\u001b[1;31m---------------------------------------------------------------------------\u001b[0m",
      "\u001b[1;31mIndexError\u001b[0m                                Traceback (most recent call last)",
      "Cell \u001b[1;32mIn[25], line 1\u001b[0m\n\u001b[1;32m----> 1\u001b[0m play_track(\u001b[38;5;124m'\u001b[39m\u001b[38;5;124mmusic\u001b[39m\u001b[38;5;124m'\u001b[39m, \u001b[38;5;241m3\u001b[39m)\n",
      "Cell \u001b[1;32mIn[18], line 4\u001b[0m, in \u001b[0;36mplay_track\u001b[1;34m(folder, track_number)\u001b[0m\n\u001b[0;32m      1\u001b[0m \u001b[38;5;28;01mdef\u001b[39;00m \u001b[38;5;21mplay_track\u001b[39m(folder\u001b[38;5;241m=\u001b[39m\u001b[38;5;124m'\u001b[39m\u001b[38;5;124m'\u001b[39m, track_number\u001b[38;5;241m=\u001b[39m\u001b[38;5;241m1\u001b[39m):\n\u001b[0;32m      2\u001b[0m \u001b[38;5;250m    \u001b[39m\u001b[38;5;124;03m\"\"\"Play a certain track (with a number) from a folder\"\"\"\u001b[39;00m\n\u001b[1;32m----> 4\u001b[0m     track \u001b[38;5;241m=\u001b[39m get_tracks(folder\u001b[38;5;241m=\u001b[39m\u001b[38;5;124m'\u001b[39m\u001b[38;5;124mmusic/\u001b[39m\u001b[38;5;124m'\u001b[39m)[track_number \u001b[38;5;241m-\u001b[39m \u001b[38;5;241m1\u001b[39m]\n\u001b[0;32m      5\u001b[0m     mixer\u001b[38;5;241m.\u001b[39minit()\n\u001b[0;32m      6\u001b[0m     mixer\u001b[38;5;241m.\u001b[39mmusic\u001b[38;5;241m.\u001b[39mload(track)\n",
      "\u001b[1;31mIndexError\u001b[0m: list index out of range"
     ]
    }
   ],
   "source": [
    "play_track('music', 3)"
   ]
  },
  {
   "cell_type": "code",
   "execution_count": 27,
   "id": "e5971f90",
   "metadata": {},
   "outputs": [],
   "source": [
    "stop_playback()"
   ]
  },
  {
   "cell_type": "markdown",
   "id": "f3d12984",
   "metadata": {
    "slideshow": {
     "slide_type": "slide"
    }
   },
   "source": [
    "### Now let's put it to a streamlit app"
   ]
  },
  {
   "cell_type": "code",
   "execution_count": null,
   "id": "5a2838da-7dd1-4eb4-9874-529e69f595cb",
   "metadata": {},
   "outputs": [],
   "source": []
  }
 ],
 "metadata": {
  "celltoolbar": "Slideshow",
  "kernelspec": {
   "display_name": "Python 3 (ipykernel)",
   "language": "python",
   "name": "python3"
  },
  "language_info": {
   "codemirror_mode": {
    "name": "ipython",
    "version": 3
   },
   "file_extension": ".py",
   "mimetype": "text/x-python",
   "name": "python",
   "nbconvert_exporter": "python",
   "pygments_lexer": "ipython3",
   "version": "3.12.4"
  }
 },
 "nbformat": 4,
 "nbformat_minor": 5
}
